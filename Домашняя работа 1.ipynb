{
 "cells": [
  {
   "cell_type": "markdown",
   "id": "a258f0bd",
   "metadata": {},
   "source": [
    "# Домашняя работа № 1"
   ]
  },
  {
   "cell_type": "markdown",
   "id": "4d2990a5",
   "metadata": {},
   "source": [
    "## Задание 1"
   ]
  },
  {
   "cell_type": "markdown",
   "id": "44eb5302",
   "metadata": {},
   "source": [
    " Оформляйте ноутбук, используя эти советы:\n",
    "\t- Номер задачи - заголовок 2\n",
    "\t- Номер подзадачи - заголовок 3\n",
    "\t- Предоставленные наборы данных оформляйте, как код\n"
   ]
  },
  {
   "cell_type": "markdown",
   "id": "2c83027d",
   "metadata": {},
   "source": [
    "## Задание 2"
   ]
  },
  {
   "cell_type": "markdown",
   "id": "3781e6c3",
   "metadata": {},
   "source": [
    "Написать функцию, которая на вход принимает любое количество названий фруктов и их количество, а возвращает общее количество фруктов на складе\n",
    "На складе лежат разные фрукты в разном количестве\n"
   ]
  },
  {
   "cell_type": "code",
   "execution_count": 16,
   "id": "9f80c9c1",
   "metadata": {},
   "outputs": [
    {
     "data": {
      "text/plain": [
       "57"
      ]
     },
     "execution_count": 16,
     "metadata": {},
     "output_type": "execute_result"
    }
   ],
   "source": [
    "def sum_fruit(**fruit):\n",
    "    result=0\n",
    "    for i in fruit.values():\n",
    "        result+=i\n",
    "    return result\n",
    "sum_fruit(rasber=20, apple=10,cherry=7,orange=20)"
   ]
  },
  {
   "cell_type": "markdown",
   "id": "c5585b41",
   "metadata": {},
   "source": [
    "## Задание 3"
   ]
  },
  {
   "cell_type": "markdown",
   "id": "82d26e5c",
   "metadata": {},
   "source": [
    "Дан список с затратами на рекламу. Но в данных есть ошибки, некоторые затраты имеют отрицательную величину. Удалите такие значения из списка и посчитайте суммарные затраты"
   ]
  },
  {
   "cell_type": "code",
   "execution_count": null,
   "id": "840eebeb",
   "metadata": {},
   "outputs": [],
   "source": [
    "[100, 125, -90, 345, 655, -1, 0, 200]"
   ]
  },
  {
   "cell_type": "markdown",
   "id": "c12cea9d",
   "metadata": {},
   "source": [
    "Используйте list comprehensions"
   ]
  },
  {
   "cell_type": "code",
   "execution_count": 20,
   "id": "345e0dc0",
   "metadata": {},
   "outputs": [
    {
     "data": {
      "text/plain": [
       "1425"
      ]
     },
     "execution_count": 20,
     "metadata": {},
     "output_type": "execute_result"
    }
   ],
   "source": [
    "list1=[100, 125, -90, 345, 655, -1, 0, 200]\n",
    "new_list=sum([i if i>0 else 0 for i in list1])\n",
    "new_list"
   ]
  },
  {
   "cell_type": "markdown",
   "id": "f1d8afaf",
   "metadata": {},
   "source": [
    "## Задание 4"
   ]
  },
  {
   "cell_type": "markdown",
   "id": "14ce6fbb",
   "metadata": {},
   "source": [
    " Даны два списка\n",
    " \n",
    " Дата покупки\n",
    " \n",
    "['2021-09-14', '2021-12-15', '2021-09-08', '2021-12-05', '2021-10-09', '2021-09-30', '2021-12-22', '2021-11-29', '2021-12-24', '2021-11-26', '2021-10-27', '2021-12-18', '2021-11-09', '2021-11-23', '2021-09-27', '2021-10-02', '2021-12-27', '2021-09-20', '2021-12-13', '2021-11-01', '2021-11-09', '2021-12-06', '2021-12-08', '2021-10-09', '2021-10-31', '2021-09-30', '2021-11-09', '2021-12-13', '2021-10-26', '2021-12-09']"
   ]
  },
  {
   "cell_type": "markdown",
   "id": "1de0f185",
   "metadata": {},
   "source": [
    "Суммы покупок по датам\n",
    "\n",
    "[1270, 8413, 9028, 3703, 5739, 4095, 295, 4944, 5723, 3701, 4471, 651, 7037, 4274, 6275, 4988, 6930, 2971, 6592, 2004, 2822, 519, 3406, 2732, 5015, 2008, 316, 6333, 5700, 2887"
   ]
  },
  {
   "cell_type": "markdown",
   "id": "dfb02b03",
   "metadata": {},
   "source": [
    "### 4.1 Найдите, какая выручка у компании в ноябре\n",
    "Используйте list comprehensions\n"
   ]
  },
  {
   "cell_type": "code",
   "execution_count": 22,
   "id": "cf83d059",
   "metadata": {},
   "outputs": [],
   "source": [
    "data1=['2021-09-14', '2021-12-15', '2021-09-08', '2021-12-05', '2021-10-09', '2021-09-30', '2021-12-22', '2021-11-29',\n",
    "       '2021-12-24', '2021-11-26', '2021-10-27', '2021-12-18', '2021-11-09', '2021-11-23', '2021-09-27', '2021-10-02', \n",
    "       '2021-12-27', '2021-09-20', '2021-12-13', '2021-11-01', '2021-11-09', '2021-12-06', '2021-12-08', '2021-10-09', \n",
    "       '2021-10-31', '2021-09-30', '2021-11-09', '2021-12-13', '2021-10-26', '2021-12-09']"
   ]
  },
  {
   "cell_type": "code",
   "execution_count": 23,
   "id": "4856c865",
   "metadata": {},
   "outputs": [],
   "source": [
    "sumpokup=[1270, 8413, 9028, 3703, 5739, 4095, 295, 4944, 5723, 3701, 4471, 651, 7037, 4274, 6275, 4988, 6930, 2971, 6592,\n",
    "         2004, 2822, 519, 3406, 2732, 5015, 2008, 316, 6333, 5700, 2887]"
   ]
  },
  {
   "cell_type": "code",
   "execution_count": 33,
   "id": "a9c8ddb4",
   "metadata": {},
   "outputs": [
    {
     "data": {
      "text/plain": [
       "25098"
      ]
     },
     "execution_count": 33,
     "metadata": {},
     "output_type": "execute_result"
    }
   ],
   "source": [
    "November=sum([sumpokup[i] for i in range(len(data1)) if data1[i].split('-')[1]=='11'])\n",
    "November"
   ]
  },
  {
   "cell_type": "markdown",
   "id": "39460895",
   "metadata": {},
   "source": [
    "### 4.2 Найдите выручку компании в зависимости от месяца\n",
    "Для этого напишите функцию, которая на вход принимает список с датами и список с выручкой, а на выходе словарь, где ключи - это месяцы, а значения - это выручка.\n",
    "\n",
    "Используйте аннотирование типов."
   ]
  },
  {
   "cell_type": "markdown",
   "id": "f9ecba94",
   "metadata": {},
   "source": [
    "невыполнено\n",
    "def revenue (date2: list, Sumpokup2: list) -> dict:\n",
    "    rev_month={}\n",
    "    for i in range(len(data2)):\n",
    "        find_month=data2[1].split('-')[1]\n",
    "        if find_month in rev_month{}:\n",
    "           \n"
   ]
  }
 ],
 "metadata": {
  "kernelspec": {
   "display_name": "Python 3 (ipykernel)",
   "language": "python",
   "name": "python3"
  },
  "language_info": {
   "codemirror_mode": {
    "name": "ipython",
    "version": 3
   },
   "file_extension": ".py",
   "mimetype": "text/x-python",
   "name": "python",
   "nbconvert_exporter": "python",
   "pygments_lexer": "ipython3",
   "version": "3.10.9"
  }
 },
 "nbformat": 4,
 "nbformat_minor": 5
}
